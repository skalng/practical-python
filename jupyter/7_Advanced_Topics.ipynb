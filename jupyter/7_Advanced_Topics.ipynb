{
 "cells": [
  {
   "cell_type": "markdown",
   "metadata": {},
   "source": [
    "# Practical Python Programming\n",
    "A course by @dabeaz<br>\n",
    "## 7 Advanced Topics\n",
    "### [7.1 Variable Arguments](https://dabeaz-course.github.io/practical-python/Notes/07_Advanced_Topics/01_Variable_arguments.html \"Link to course\")\n",
    "This section covers function with __variadic__ arguments, any number of extra argument."
   ]
  },
  {
   "cell_type": "markdown",
   "metadata": {},
   "source": [
    "Allow import from working directory"
   ]
  },
  {
   "cell_type": "code",
   "execution_count": 17,
   "metadata": {},
   "outputs": [],
   "source": [
    "import sys, os\n",
    "course_dir  = os.path.expanduser('~/project/software/python/workspaces/python-learning/practical-python')\n",
    "working_dir = os.path.join(course_dir, 'Work')\n",
    "data_dir    = os.path.join(course_dir, 'Work/Data')\n",
    "sys.path.append(os.path.expanduser('~/project/software/python/workspaces/python-learning/practical-python/Work'))"
   ]
  },
  {
   "cell_type": "markdown",
   "metadata": {},
   "source": [
    "#### Positional and variable arguments"
   ]
  },
  {
   "cell_type": "code",
   "execution_count": 18,
   "metadata": {},
   "outputs": [],
   "source": [
    "def f(x, *args):\n",
    "    ..."
   ]
  },
  {
   "cell_type": "code",
   "execution_count": 19,
   "metadata": {},
   "outputs": [],
   "source": [
    "f(1,2,3,4,5)\n",
    "    # x -> 1\n",
    "    # args -> (2,3,4,5)"
   ]
  },
  {
   "cell_type": "code",
   "execution_count": 20,
   "metadata": {},
   "outputs": [],
   "source": [
    "def f(x, y, **kwargs):\n",
    "    ..."
   ]
  },
  {
   "cell_type": "code",
   "execution_count": 21,
   "metadata": {},
   "outputs": [],
   "source": [
    "f(2, 3, flag=True, mode='fast', header='debug')\n",
    "    # x -> 2\n",
    "    # y -> 3\n",
    "    # kwargs -> { 'flag': True, 'mode': 'fast', 'header': 'debug' }"
   ]
  },
  {
   "cell_type": "code",
   "execution_count": 22,
   "metadata": {},
   "outputs": [],
   "source": [
    "def f(x, y, *args, **kwargs):\n",
    "    ..."
   ]
  },
  {
   "cell_type": "code",
   "execution_count": 23,
   "metadata": {},
   "outputs": [],
   "source": [
    "f(2, 3, 4, 5, flag=True, mode='fast', header='debug')\n",
    "    # x -> 2\n",
    "    # y -> 3\n",
    "    # args   -> (4,5)\n",
    "    # kwargs -> { 'flag': True, 'mode': 'fast', 'header': 'debug' }"
   ]
  },
  {
   "cell_type": "markdown",
   "metadata": {},
   "source": [
    "A function can also accept any number of variable keyword and non-keyword arguments."
   ]
  },
  {
   "cell_type": "code",
   "execution_count": 24,
   "metadata": {},
   "outputs": [],
   "source": [
    "def f(*args, **kwargs):\n",
    "    ..."
   ]
  },
  {
   "cell_type": "code",
   "execution_count": 25,
   "metadata": {},
   "outputs": [],
   "source": [
    "f(2, 3, 4, 5, flag=True, mode='fast', header='debug')\n",
    "    # args   -> (1,2,3,4,5)\n",
    "    # kwargs -> { 'flag': True, 'mode': 'fast', 'header': 'debug' }"
   ]
  },
  {
   "cell_type": "markdown",
   "metadata": {},
   "source": [
    "#### Passing Tuples and Dicts"
   ]
  },
  {
   "cell_type": "code",
   "execution_count": 26,
   "metadata": {},
   "outputs": [],
   "source": [
    "numbers = (2,3,4)\n",
    "f(1, *numbers)      \n",
    "    # Same as f(1,2,3,4)"
   ]
  },
  {
   "cell_type": "code",
   "execution_count": 27,
   "metadata": {},
   "outputs": [],
   "source": [
    "def f(data, color, delimiter, width):\n",
    "    ..."
   ]
  },
  {
   "cell_type": "code",
   "execution_count": 28,
   "metadata": {},
   "outputs": [],
   "source": [
    "options = {\n",
    "    'color' : 'red',\n",
    "    'delimiter' : ',',\n",
    "    'width' : 400\n",
    "}\n",
    "f(42, **options)\n",
    "    # Same as f(42, color='red', delimiter=',', width=400)"
   ]
  },
  {
   "cell_type": "markdown",
   "metadata": {},
   "source": [
    "#### Exercise 7.1"
   ]
  },
  {
   "cell_type": "code",
   "execution_count": 29,
   "metadata": {},
   "outputs": [],
   "source": [
    "def avg(x, *args):\n",
    "    return (x + sum(args))/(1+len(args))"
   ]
  },
  {
   "cell_type": "code",
   "execution_count": 30,
   "metadata": {},
   "outputs": [
    {
     "data": {
      "text/plain": [
       "2.5"
      ]
     },
     "execution_count": 30,
     "metadata": {},
     "output_type": "execute_result"
    }
   ],
   "source": [
    "avg(2,3)"
   ]
  },
  {
   "cell_type": "markdown",
   "metadata": {},
   "source": [
    "#### Exercise 7.2"
   ]
  },
  {
   "cell_type": "code",
   "execution_count": 31,
   "metadata": {},
   "outputs": [],
   "source": [
    "from porty.stock import Stock\n",
    "data = ('GOOG', 100, 490.1)\n",
    "s = Stock(*data)"
   ]
  },
  {
   "cell_type": "code",
   "execution_count": 32,
   "metadata": {},
   "outputs": [],
   "source": [
    "s = Stock(*data)"
   ]
  },
  {
   "cell_type": "markdown",
   "metadata": {},
   "source": [
    "if data is a dictionary like:"
   ]
  },
  {
   "cell_type": "code",
   "execution_count": 33,
   "metadata": {},
   "outputs": [],
   "source": [
    "data = { 'name': 'GOOG', 'shares': 100, 'price': 490.1 }\n",
    "s = Stock(**data)"
   ]
  },
  {
   "cell_type": "markdown",
   "metadata": {},
   "source": [
    "### [7.2 Anonymous Functions and Lambdas](https://dabeaz-course.github.io/practical-python/Notes/07_Advanced_Topics/02_Anonymous_function.html \"Link to course\")\n"
   ]
  },
  {
   "cell_type": "markdown",
   "metadata": {},
   "source": [
    "#### Sorting"
   ]
  },
  {
   "cell_type": "code",
   "execution_count": 36,
   "metadata": {},
   "outputs": [],
   "source": [
    "from porty import fileparse\n",
    "from porty.portfolio import Portfolio"
   ]
  },
  {
   "cell_type": "code",
   "execution_count": 37,
   "metadata": {},
   "outputs": [],
   "source": [
    "with open(os.path.join(data_dir, 'portfolio.csv')) as lines:\n",
    "    portf_dicts = fileparse.parse_csv(lines, select=['name', 'shares', 'price'])"
   ]
  },
  {
   "cell_type": "code",
   "execution_count": 38,
   "metadata": {},
   "outputs": [
    {
     "data": {
      "text/plain": [
       "'.'"
      ]
     },
     "execution_count": 38,
     "metadata": {},
     "output_type": "execute_result"
    }
   ],
   "source": [
    "os.curdir"
   ]
  },
  {
   "cell_type": "code",
   "execution_count": 39,
   "metadata": {},
   "outputs": [
    {
     "data": {
      "text/plain": [
       "'/home/ho_ksk/project/software/python/workspaces/python-learning/practical-python/jupyter'"
      ]
     },
     "execution_count": 39,
     "metadata": {},
     "output_type": "execute_result"
    }
   ],
   "source": [
    "%pwd"
   ]
  },
  {
   "cell_type": "code",
   "execution_count": 40,
   "metadata": {},
   "outputs": [
    {
     "data": {
      "text/plain": [
       "[{'name': 'AA', 'shares': '100', 'price': '32.20'},\n",
       " {'name': 'IBM', 'shares': '50', 'price': '91.10'},\n",
       " {'name': 'CAT', 'shares': '150', 'price': '83.44'},\n",
       " {'name': 'MSFT', 'shares': '200', 'price': '51.23'},\n",
       " {'name': 'GE', 'shares': '95', 'price': '40.37'},\n",
       " {'name': 'MSFT', 'shares': '50', 'price': '65.10'},\n",
       " {'name': 'IBM', 'shares': '100', 'price': '70.44'}]"
      ]
     },
     "execution_count": 40,
     "metadata": {},
     "output_type": "execute_result"
    }
   ],
   "source": [
    "portf_dicts"
   ]
  },
  {
   "cell_type": "markdown",
   "metadata": {},
   "source": [
    "Ues callback-function to sort a dictionary"
   ]
  },
  {
   "cell_type": "code",
   "execution_count": 41,
   "metadata": {},
   "outputs": [],
   "source": [
    "def stock_name(s):\n",
    "    return s['name']\n",
    "\n",
    "portf_dicts.sort(key=stock_name)"
   ]
  },
  {
   "cell_type": "code",
   "execution_count": 42,
   "metadata": {},
   "outputs": [
    {
     "data": {
      "text/plain": [
       "[{'name': 'AA', 'shares': '100', 'price': '32.20'},\n",
       " {'name': 'CAT', 'shares': '150', 'price': '83.44'},\n",
       " {'name': 'GE', 'shares': '95', 'price': '40.37'},\n",
       " {'name': 'IBM', 'shares': '50', 'price': '91.10'},\n",
       " {'name': 'IBM', 'shares': '100', 'price': '70.44'},\n",
       " {'name': 'MSFT', 'shares': '200', 'price': '51.23'},\n",
       " {'name': 'MSFT', 'shares': '50', 'price': '65.10'}]"
      ]
     },
     "execution_count": 42,
     "metadata": {},
     "output_type": "execute_result"
    }
   ],
   "source": [
    "portf_dicts"
   ]
  },
  {
   "cell_type": "markdown",
   "metadata": {},
   "source": [
    "#### Lambdas: Anonymous Function"
   ]
  },
  {
   "cell_type": "code",
   "execution_count": 43,
   "metadata": {},
   "outputs": [],
   "source": [
    "portf_dicts.sort(key=lambda a: a['price'])"
   ]
  },
  {
   "cell_type": "code",
   "execution_count": 44,
   "metadata": {},
   "outputs": [
    {
     "data": {
      "text/plain": [
       "[{'name': 'AA', 'shares': '100', 'price': '32.20'},\n",
       " {'name': 'GE', 'shares': '95', 'price': '40.37'},\n",
       " {'name': 'MSFT', 'shares': '200', 'price': '51.23'},\n",
       " {'name': 'MSFT', 'shares': '50', 'price': '65.10'},\n",
       " {'name': 'IBM', 'shares': '100', 'price': '70.44'},\n",
       " {'name': 'CAT', 'shares': '150', 'price': '83.44'},\n",
       " {'name': 'IBM', 'shares': '50', 'price': '91.10'}]"
      ]
     },
     "execution_count": 44,
     "metadata": {},
     "output_type": "execute_result"
    }
   ],
   "source": [
    "portf_dicts"
   ]
  },
  {
   "cell_type": "code",
   "execution_count": 45,
   "metadata": {},
   "outputs": [],
   "source": [
    "from porty import report"
   ]
  },
  {
   "cell_type": "code",
   "execution_count": 46,
   "metadata": {},
   "outputs": [],
   "source": [
    "portfolio = report.read_portfolio(os.path.join(data_dir, 'portfolio.csv'))"
   ]
  },
  {
   "cell_type": "code",
   "execution_count": 47,
   "metadata": {},
   "outputs": [
    {
     "data": {
      "text/plain": [
       "<porty.portfolio.Portfolio at 0x7fac502e7b20>"
      ]
     },
     "execution_count": 47,
     "metadata": {},
     "output_type": "execute_result"
    }
   ],
   "source": [
    "portfolio"
   ]
  },
  {
   "cell_type": "code",
   "execution_count": 48,
   "metadata": {},
   "outputs": [],
   "source": [
    "portfolio = list(portfolio)"
   ]
  },
  {
   "cell_type": "code",
   "execution_count": 49,
   "metadata": {},
   "outputs": [
    {
     "data": {
      "text/plain": [
       "[Stock(AA, 100, 32.2),\n",
       " Stock(IBM, 50, 91.1),\n",
       " Stock(CAT, 150, 83.44),\n",
       " Stock(MSFT, 200, 51.23),\n",
       " Stock(GE, 95, 40.37),\n",
       " Stock(MSFT, 50, 65.1),\n",
       " Stock(IBM, 100, 70.44)]"
      ]
     },
     "execution_count": 49,
     "metadata": {},
     "output_type": "execute_result"
    }
   ],
   "source": [
    "portfolio"
   ]
  },
  {
   "cell_type": "code",
   "execution_count": 50,
   "metadata": {},
   "outputs": [],
   "source": [
    "def stock_name(s):\n",
    "    return s.name"
   ]
  },
  {
   "cell_type": "code",
   "execution_count": 51,
   "metadata": {},
   "outputs": [],
   "source": [
    "portfolio.sort(key=stock_name)"
   ]
  },
  {
   "cell_type": "code",
   "execution_count": 52,
   "metadata": {},
   "outputs": [
    {
     "data": {
      "text/plain": [
       "[Stock(AA, 100, 32.2),\n",
       " Stock(CAT, 150, 83.44),\n",
       " Stock(GE, 95, 40.37),\n",
       " Stock(IBM, 50, 91.1),\n",
       " Stock(IBM, 100, 70.44),\n",
       " Stock(MSFT, 200, 51.23),\n",
       " Stock(MSFT, 50, 65.1)]"
      ]
     },
     "execution_count": 52,
     "metadata": {},
     "output_type": "execute_result"
    }
   ],
   "source": [
    "portfolio"
   ]
  },
  {
   "cell_type": "code",
   "execution_count": 53,
   "metadata": {},
   "outputs": [],
   "source": [
    "portfolio.sort(key = lambda s: s.shares)"
   ]
  },
  {
   "cell_type": "code",
   "execution_count": 54,
   "metadata": {},
   "outputs": [
    {
     "data": {
      "text/plain": [
       "[Stock(IBM, 50, 91.1),\n",
       " Stock(MSFT, 50, 65.1),\n",
       " Stock(GE, 95, 40.37),\n",
       " Stock(AA, 100, 32.2),\n",
       " Stock(IBM, 100, 70.44),\n",
       " Stock(CAT, 150, 83.44),\n",
       " Stock(MSFT, 200, 51.23)]"
      ]
     },
     "execution_count": 54,
     "metadata": {},
     "output_type": "execute_result"
    }
   ],
   "source": [
    "portfolio"
   ]
  },
  {
   "cell_type": "markdown",
   "metadata": {},
   "source": [
    "### [7.3 Returning Functions](https://dabeaz-course.github.io/practical-python/Notes/07_Advanced_Topics/03_Returning_functions.html \"Link to course\")\n",
    "This section introduces the idea of using functions to create other functions."
   ]
  },
  {
   "cell_type": "markdown",
   "metadata": {},
   "source": [
    "#### Closures"
   ]
  },
  {
   "cell_type": "code",
   "execution_count": 55,
   "metadata": {},
   "outputs": [],
   "source": [
    "def add(x, y):\n",
    "    # do_add is a closure\n",
    "    def do_add():\n",
    "        print('adding', x, y)\n",
    "        return x+y\n",
    "    return do_add"
   ]
  },
  {
   "cell_type": "code",
   "execution_count": 56,
   "metadata": {},
   "outputs": [],
   "source": [
    "a = add(3,4)"
   ]
  },
  {
   "cell_type": "code",
   "execution_count": 57,
   "metadata": {},
   "outputs": [
    {
     "data": {
      "text/plain": [
       "<function __main__.add.<locals>.do_add()>"
      ]
     },
     "execution_count": 57,
     "metadata": {},
     "output_type": "execute_result"
    }
   ],
   "source": [
    "a"
   ]
  },
  {
   "cell_type": "code",
   "execution_count": 58,
   "metadata": {},
   "outputs": [
    {
     "name": "stdout",
     "output_type": "stream",
     "text": [
      "adding 3 4\n"
     ]
    },
    {
     "data": {
      "text/plain": [
       "7"
      ]
     },
     "execution_count": 58,
     "metadata": {},
     "output_type": "execute_result"
    }
   ],
   "source": [
    "a()"
   ]
  },
  {
   "cell_type": "markdown",
   "metadata": {},
   "source": [
    "#### Using closures\n",
    "Closure are an essential feature of Python. However, their use if often subtle. Common applications:\n",
    "- Use in callback functions.\n",
    "- Delayed evaluation.\n",
    "- Decorator functions (later)."
   ]
  },
  {
   "cell_type": "markdown",
   "metadata": {},
   "source": [
    "#### Delayed evaluation"
   ]
  },
  {
   "cell_type": "code",
   "execution_count": 59,
   "metadata": {},
   "outputs": [],
   "source": [
    "def after(seconds, func):\n",
    "    import time\n",
    "    time.sleep(seconds)\n",
    "    func()"
   ]
  },
  {
   "cell_type": "code",
   "execution_count": 60,
   "metadata": {},
   "outputs": [],
   "source": [
    "def greeding():\n",
    "    print('Hello Guido')"
   ]
  },
  {
   "cell_type": "code",
   "execution_count": 61,
   "metadata": {},
   "outputs": [
    {
     "name": "stdout",
     "output_type": "stream",
     "text": [
      "Hello Guido\n"
     ]
    }
   ],
   "source": [
    "after(10, greeding)"
   ]
  },
  {
   "cell_type": "markdown",
   "metadata": {},
   "source": [
    "#### Code Repetition\n",
    "Closures can also be used as technique for avoiding excessive code repetition. You can write functions that make code."
   ]
  },
  {
   "cell_type": "markdown",
   "metadata": {},
   "source": [
    "#### Exercise 7.7: : Using Closures to Avoid Repetition"
   ]
  },
  {
   "cell_type": "code",
   "execution_count": 62,
   "metadata": {},
   "outputs": [],
   "source": [
    "def tcheck(type):\n",
    "    def doit(value):\n",
    "        if not isinstance(value, int):\n",
    "            raise TypeError('Expected int')\n",
    "        return\n",
    "    return doit\n",
    "\n",
    "int_check = tcheck(int)"
   ]
  },
  {
   "cell_type": "code",
   "execution_count": 63,
   "metadata": {},
   "outputs": [],
   "source": [
    "int_check(2)"
   ]
  },
  {
   "cell_type": "code",
   "execution_count": 64,
   "metadata": {},
   "outputs": [],
   "source": [
    "#int_check(2.2)"
   ]
  },
  {
   "cell_type": "markdown",
   "metadata": {},
   "source": [
    "The far more complex solution:"
   ]
  },
  {
   "cell_type": "code",
   "execution_count": 65,
   "metadata": {},
   "outputs": [],
   "source": [
    "def typedproperty(name, expected_type):\n",
    "    private_name = '_' + name\n",
    "    @property\n",
    "    def prop(self):\n",
    "        return getattr(self, private_name)\n",
    "\n",
    "    @prop.setter\n",
    "    def prop(self, value):\n",
    "        if not isinstance(value, expected_type):\n",
    "            raise TypeError(f'Expected {expected_type}')\n",
    "        setattr(self, private_name, value)\n",
    "\n",
    "    return prop"
   ]
  },
  {
   "cell_type": "code",
   "execution_count": 66,
   "metadata": {},
   "outputs": [],
   "source": [
    "class Stock:\n",
    "    name   = typedproperty('name', str)\n",
    "    shares = typedproperty('shares', int)\n",
    "    price  = typedproperty('price', float)\n",
    "\n",
    "    def __init__(self, name, shares, price):\n",
    "        self.name = name\n",
    "        self.shares = shares\n",
    "        self.price = price"
   ]
  },
  {
   "cell_type": "code",
   "execution_count": 67,
   "metadata": {},
   "outputs": [],
   "source": [
    "s = Stock('IBM', 50, 91.1)"
   ]
  },
  {
   "cell_type": "code",
   "execution_count": 68,
   "metadata": {},
   "outputs": [
    {
     "data": {
      "text/plain": [
       "'IBM'"
      ]
     },
     "execution_count": 68,
     "metadata": {},
     "output_type": "execute_result"
    }
   ],
   "source": [
    "s.name"
   ]
  },
  {
   "cell_type": "markdown",
   "metadata": {},
   "source": [
    "#### Exercise 7.8: Simplifying Function Calls"
   ]
  },
  {
   "cell_type": "code",
   "execution_count": 69,
   "metadata": {},
   "outputs": [],
   "source": [
    "String  = lambda name: typedproperty(name, str)\n",
    "Integer = lambda name: typedproperty(name, int)\n",
    "Float   = lambda name: typedproperty(name, float)"
   ]
  },
  {
   "cell_type": "code",
   "execution_count": 70,
   "metadata": {},
   "outputs": [],
   "source": [
    "class Stock:\n",
    "    name   = String('name')\n",
    "    shares = Integer('shares')\n",
    "    price  = Float('price')\n",
    "\n",
    "    def __init__(self, name, shares, price):\n",
    "        self.name = name\n",
    "        self.shares = shares\n",
    "        self.price = price"
   ]
  },
  {
   "cell_type": "code",
   "execution_count": 71,
   "metadata": {},
   "outputs": [],
   "source": [
    "a = Stock('AA', 50, 91.1)"
   ]
  },
  {
   "cell_type": "markdown",
   "metadata": {},
   "source": [
    "### [7.4 Function Decorators](https://dabeaz-course.github.io/practical-python/Notes/07_Advanced_Topics/04_Function_decorators.html \"Link to course\")\n",
    "This section introduces the concept of a decorator. This is an advanced topic for which we only scratch the surface."
   ]
  },
  {
   "cell_type": "markdown",
   "metadata": {},
   "source": [
    "#### Code that makes logging"
   ]
  },
  {
   "cell_type": "code",
   "execution_count": 72,
   "metadata": {},
   "outputs": [],
   "source": [
    "def add(a, b):\n",
    "    return a + b"
   ]
  },
  {
   "cell_type": "code",
   "execution_count": 73,
   "metadata": {},
   "outputs": [],
   "source": [
    "def logged(func):\n",
    "    def wrapper(*args, **kwargs):\n",
    "        print('DEBUG: calling ' + func.__name__)\n",
    "        return(func(*args, **kwargs))\n",
    "    return wrapper"
   ]
  },
  {
   "cell_type": "code",
   "execution_count": 74,
   "metadata": {},
   "outputs": [],
   "source": [
    "logged_add = logged(add)"
   ]
  },
  {
   "cell_type": "code",
   "execution_count": 75,
   "metadata": {},
   "outputs": [
    {
     "name": "stdout",
     "output_type": "stream",
     "text": [
      "DEBUG: calling add\n"
     ]
    },
    {
     "data": {
      "text/plain": [
       "7"
      ]
     },
     "execution_count": 75,
     "metadata": {},
     "output_type": "execute_result"
    }
   ],
   "source": [
    "logged_add(3, 4)"
   ]
  },
  {
   "cell_type": "code",
   "execution_count": 76,
   "metadata": {},
   "outputs": [],
   "source": [
    "@logged\n",
    "def new_add(a, b):\n",
    "    return a + b"
   ]
  },
  {
   "cell_type": "code",
   "execution_count": 77,
   "metadata": {},
   "outputs": [
    {
     "name": "stdout",
     "output_type": "stream",
     "text": [
      "DEBUG: calling new_add\n"
     ]
    },
    {
     "data": {
      "text/plain": [
       "11"
      ]
     },
     "execution_count": 77,
     "metadata": {},
     "output_type": "execute_result"
    }
   ],
   "source": [
    "new_add(5,6)"
   ]
  },
  {
   "cell_type": "code",
   "execution_count": 78,
   "metadata": {},
   "outputs": [],
   "source": [
    "import time"
   ]
  },
  {
   "cell_type": "code",
   "execution_count": 79,
   "metadata": {},
   "outputs": [
    {
     "data": {
      "text/plain": [
       "1647551388.0346844"
      ]
     },
     "execution_count": 79,
     "metadata": {},
     "output_type": "execute_result"
    }
   ],
   "source": [
    "time.time()"
   ]
  },
  {
   "cell_type": "code",
   "execution_count": 80,
   "metadata": {},
   "outputs": [],
   "source": [
    "def timethis(func):\n",
    "    def wrapper(*args, **kwargs):\n",
    "        import time\n",
    "        t1 = time.time()\n",
    "        func(*args, **kwargs)\n",
    "        tr = time.time()-t1\n",
    "        print(f'{func.__name__} runs {tr}')\n",
    "        return\n",
    "    return wrapper"
   ]
  },
  {
   "cell_type": "code",
   "execution_count": 81,
   "metadata": {},
   "outputs": [],
   "source": [
    "@timethis\n",
    "@logged\n",
    "def new_add(a, b):\n",
    "    return a + b"
   ]
  },
  {
   "cell_type": "code",
   "execution_count": 82,
   "metadata": {},
   "outputs": [
    {
     "name": "stdout",
     "output_type": "stream",
     "text": [
      "DEBUG: calling new_add\n",
      "wrapper runs 6.842613220214844e-05\n"
     ]
    }
   ],
   "source": [
    "new_add(3, 8)"
   ]
  },
  {
   "cell_type": "code",
   "execution_count": 83,
   "metadata": {},
   "outputs": [],
   "source": [
    "@logged\n",
    "@timethis\n",
    "def new_add(a, b):\n",
    "    return a + b"
   ]
  },
  {
   "cell_type": "code",
   "execution_count": 84,
   "metadata": {},
   "outputs": [
    {
     "name": "stdout",
     "output_type": "stream",
     "text": [
      "DEBUG: calling wrapper\n",
      "new_add runs 1.6689300537109375e-06\n"
     ]
    }
   ],
   "source": [
    "new_add(3, 8)"
   ]
  },
  {
   "cell_type": "markdown",
   "metadata": {},
   "source": [
    "Examining the Solution gave me a surprise. Try with finaly and return."
   ]
  },
  {
   "cell_type": "code",
   "execution_count": 85,
   "metadata": {},
   "outputs": [],
   "source": [
    "#def test_try_return():\n",
    "#    try:\n",
    "#        return('returned')\n",
    "#    finaly:\n",
    "#        print('finalised')"
   ]
  },
  {
   "cell_type": "code",
   "execution_count": 86,
   "metadata": {},
   "outputs": [],
   "source": [
    "def test_try_return():\n",
    "    def wrapper():\n",
    "        try:\n",
    "            return('returned')\n",
    "        finally:\n",
    "            print('finalised')\n",
    "    return wrapper"
   ]
  },
  {
   "cell_type": "code",
   "execution_count": 87,
   "metadata": {},
   "outputs": [
    {
     "data": {
      "text/plain": [
       "<function __main__.test_try_return.<locals>.wrapper()>"
      ]
     },
     "execution_count": 87,
     "metadata": {},
     "output_type": "execute_result"
    }
   ],
   "source": [
    "test_try_return()"
   ]
  },
  {
   "cell_type": "code",
   "execution_count": 88,
   "metadata": {},
   "outputs": [
    {
     "name": "stdout",
     "output_type": "stream",
     "text": [
      "finalised\n"
     ]
    },
    {
     "data": {
      "text/plain": [
       "'returned'"
      ]
     },
     "execution_count": 88,
     "metadata": {},
     "output_type": "execute_result"
    }
   ],
   "source": [
    "test_try_return()()"
   ]
  },
  {
   "cell_type": "markdown",
   "metadata": {},
   "source": [
    "### [7.5 Decorated Methods](https://dabeaz-course.github.io/practical-python/Notes/07_Advanced_Topics/05_Decorated_methods.html \"Link to course\")\n",
    "This section discusses a few built-in decorators that are used in combination with method definitions."
   ]
  },
  {
   "cell_type": "markdown",
   "metadata": {},
   "source": [
    "#### Static Methods\n",
    "@staticmethod is used to define a so-called static class methods (from C++/Java). A static method is a function that is part of the class, but which does not operate on instances."
   ]
  },
  {
   "cell_type": "code",
   "execution_count": 89,
   "metadata": {},
   "outputs": [],
   "source": [
    "class Foo(object):\n",
    "    @staticmethod\n",
    "    def bar(x):\n",
    "        print(f'x = {x}')"
   ]
  },
  {
   "cell_type": "code",
   "execution_count": 90,
   "metadata": {},
   "outputs": [
    {
     "name": "stdout",
     "output_type": "stream",
     "text": [
      "x = 2\n"
     ]
    }
   ],
   "source": [
    "Foo.bar(2)"
   ]
  },
  {
   "cell_type": "code",
   "execution_count": 91,
   "metadata": {},
   "outputs": [],
   "source": [
    "fb = Foo()"
   ]
  },
  {
   "cell_type": "code",
   "execution_count": 92,
   "metadata": {},
   "outputs": [
    {
     "name": "stdout",
     "output_type": "stream",
     "text": [
      "x = 1\n"
     ]
    }
   ],
   "source": [
    "fb.bar(1)"
   ]
  },
  {
   "cell_type": "code",
   "execution_count": 93,
   "metadata": {},
   "outputs": [
    {
     "data": {
      "text/plain": [
       "<__main__.Foo at 0x7fac503a8cd0>"
      ]
     },
     "execution_count": 93,
     "metadata": {},
     "output_type": "execute_result"
    }
   ],
   "source": [
    "fb"
   ]
  },
  {
   "cell_type": "code",
   "execution_count": 94,
   "metadata": {},
   "outputs": [
    {
     "data": {
      "text/plain": [
       "__main__.Foo"
      ]
     },
     "execution_count": 94,
     "metadata": {},
     "output_type": "execute_result"
    }
   ],
   "source": [
    "Foo"
   ]
  },
  {
   "cell_type": "code",
   "execution_count": 95,
   "metadata": {},
   "outputs": [
    {
     "data": {
      "text/plain": [
       "False"
      ]
     },
     "execution_count": 95,
     "metadata": {},
     "output_type": "execute_result"
    }
   ],
   "source": [
    "id(fb) == id(Foo)"
   ]
  },
  {
   "cell_type": "markdown",
   "metadata": {},
   "source": [
    "There are still __questions open for me__.<br> \n",
    "In the lecture it is said:<br>\n",
    "___A static method is a function that is part of the class, but which does not operate on instances.___"
   ]
  },
  {
   "cell_type": "markdown",
   "metadata": {},
   "source": [
    "#### Class Methods\n",
    "@classmethod is used to define class methods. A class method is a method that receives the class object as the first parameter instead of the instance."
   ]
  },
  {
   "cell_type": "code",
   "execution_count": 96,
   "metadata": {},
   "outputs": [],
   "source": [
    "class Date:\n",
    "    def __init__(self,year,month,day):\n",
    "        self.year = year\n",
    "        self.month = month\n",
    "        self.day = day\n",
    "\n",
    "    @classmethod\n",
    "    def today(cls):\n",
    "        # Notice how the class is passed as an argument\n",
    "        tm = time.localtime()\n",
    "        # And used to create a new instance\n",
    "        return cls(tm.tm_year, tm.tm_mon, tm.tm_mday)"
   ]
  },
  {
   "cell_type": "code",
   "execution_count": 97,
   "metadata": {},
   "outputs": [
    {
     "data": {
      "text/plain": [
       "<__main__.Date at 0x7fac503a8430>"
      ]
     },
     "execution_count": 97,
     "metadata": {},
     "output_type": "execute_result"
    }
   ],
   "source": [
    "Date.today()"
   ]
  },
  {
   "cell_type": "code",
   "execution_count": 98,
   "metadata": {},
   "outputs": [],
   "source": [
    "d = Date.today()"
   ]
  },
  {
   "cell_type": "code",
   "execution_count": 99,
   "metadata": {},
   "outputs": [
    {
     "data": {
      "text/plain": [
       "<__main__.Date at 0x7fac502fd040>"
      ]
     },
     "execution_count": 99,
     "metadata": {},
     "output_type": "execute_result"
    }
   ],
   "source": [
    "d.today()"
   ]
  },
  {
   "cell_type": "code",
   "execution_count": 103,
   "metadata": {},
   "outputs": [],
   "source": [
    "from porty.portfolio import Portfolio\n",
    "with open(os.path.join(data_dir, 'portfolio.csv')) as lines:\n",
    "    port = Portfolio.from_csv(lines)"
   ]
  },
  {
   "cell_type": "code",
   "execution_count": 104,
   "metadata": {},
   "outputs": [
    {
     "data": {
      "text/plain": [
       "<porty.portfolio.Portfolio at 0x7fac503df3d0>"
      ]
     },
     "execution_count": 104,
     "metadata": {},
     "output_type": "execute_result"
    }
   ],
   "source": [
    "port"
   ]
  },
  {
   "cell_type": "code",
   "execution_count": 105,
   "metadata": {},
   "outputs": [
    {
     "data": {
      "text/plain": [
       "44671.15"
      ]
     },
     "execution_count": 105,
     "metadata": {},
     "output_type": "execute_result"
    }
   ],
   "source": [
    "port.total_cost"
   ]
  },
  {
   "cell_type": "code",
   "execution_count": null,
   "metadata": {},
   "outputs": [],
   "source": []
  },
  {
   "cell_type": "code",
   "execution_count": null,
   "metadata": {},
   "outputs": [],
   "source": []
  }
 ],
 "metadata": {
  "kernelspec": {
   "display_name": "Python 3.8.10 64-bit",
   "language": "python",
   "name": "python381064bit6ab62f58ca3f4291a2cc985e13c29865"
  },
  "language_info": {
   "codemirror_mode": {
    "name": "ipython",
    "version": 3
   },
   "file_extension": ".py",
   "mimetype": "text/x-python",
   "name": "python",
   "nbconvert_exporter": "python",
   "pygments_lexer": "ipython3",
   "version": "3.8.10"
  }
 },
 "nbformat": 4,
 "nbformat_minor": 4
}
